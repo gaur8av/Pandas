{
  "nbformat": 4,
  "nbformat_minor": 0,
  "metadata": {
    "colab": {
      "provenance": [],
      "authorship_tag": "ABX9TyNOccIKPxQ0WXVn1p2skcUX",
      "include_colab_link": true
    },
    "kernelspec": {
      "name": "python3",
      "display_name": "Python 3"
    },
    "language_info": {
      "name": "python"
    }
  },
  "cells": [
    {
      "cell_type": "markdown",
      "metadata": {
        "id": "view-in-github",
        "colab_type": "text"
      },
      "source": [
        "<a href=\"https://colab.research.google.com/github/gaur8av/Pandas/blob/main/Lecture_2.ipynb\" target=\"_parent\"><img src=\"https://colab.research.google.com/assets/colab-badge.svg\" alt=\"Open In Colab\"/></a>"
      ]
    },
    {
      "cell_type": "markdown",
      "source": [
        "Data frame"
      ],
      "metadata": {
        "id": "IAZjKJFDXAEG"
      }
    },
    {
      "cell_type": "code",
      "source": [
        "import pandas as pd\n",
        "l=[11,2535,43,52]\n",
        "var = pd.DataFrame(l)\n",
        "print(var)\n",
        "print(type(var))\n",
        "print()\n",
        "var1=pd.Series(l)\n",
        "print(var1)\n",
        "print()\n",
        "print(type(var1))\n"
      ],
      "metadata": {
        "colab": {
          "base_uri": "https://localhost:8080/"
        },
        "id": "u52i1TeaXDzG",
        "outputId": "9d76f96e-37d2-449a-d741-4c9a3b74671b"
      },
      "execution_count": 7,
      "outputs": [
        {
          "output_type": "stream",
          "name": "stdout",
          "text": [
            "      0\n",
            "0    11\n",
            "1  2535\n",
            "2    43\n",
            "3    52\n",
            "<class 'pandas.core.frame.DataFrame'>\n",
            "\n",
            "0      11\n",
            "1    2535\n",
            "2      43\n",
            "3      52\n",
            "dtype: int64\n",
            "\n",
            "<class 'pandas.core.series.Series'>\n"
          ]
        }
      ]
    },
    {
      "cell_type": "code",
      "source": [
        "d = {\"a\":[1,3,5,7,9],\"b\":[2,4,6,8,10],1:['a','b','c','d','e']}\n",
        "var = pd.DataFrame(d)  #data items must me same in list\n",
        "print(var,end=\"/n\")\n",
        "print(type(var))\n",
        "print()\n",
        "var1 = pd.DataFrame(d,columns=[\"a\",\"b\"],dtype=\"float\",index=[\"!\",\"@\",\"#\",\"$\",\"&\"])\n",
        "print(var1,end=\"\\n\")\n",
        "print()\n",
        "print(var1[\"a\"][\"@\"])\n",
        "#first attribute for coliumn and second for row\n"
      ],
      "metadata": {
        "id": "CJCmJRJHYK0U"
      },
      "execution_count": null,
      "outputs": []
    },
    {
      "cell_type": "code",
      "source": [
        "sr={\"s\":pd.Series([1,2,3,4]),\"p\":pd.Series([2,4,6,8])}\n",
        "print(pd.DataFrame(sr))\n",
        "print()\n",
        "print(type(sr))"
      ],
      "metadata": {
        "colab": {
          "base_uri": "https://localhost:8080/"
        },
        "id": "fJDqDfpKbZ_Q",
        "outputId": "efcc93a6-a889-46f0-8c57-606380c4e0d9"
      },
      "execution_count": 26,
      "outputs": [
        {
          "output_type": "stream",
          "name": "stdout",
          "text": [
            "   s  p\n",
            "0  1  2\n",
            "1  2  4\n",
            "2  3  6\n",
            "3  4  8\n",
            "\n",
            "<class 'dict'>\n"
          ]
        }
      ]
    }
  ]
}