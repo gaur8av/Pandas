{
  "cells": [
    {
      "cell_type": "markdown",
      "metadata": {
        "id": "view-in-github",
        "colab_type": "text"
      },
      "source": [
        "<a href=\"https://colab.research.google.com/github/gaur8av/Pandas/blob/main/Lecture_1.ipynb\" target=\"_parent\"><img src=\"https://colab.research.google.com/assets/colab-badge.svg\" alt=\"Open In Colab\"/></a>"
      ]
    },
    {
      "cell_type": "markdown",
      "id": "e608f4e9",
      "metadata": {
        "id": "e608f4e9"
      },
      "source": [
        "# Data structure in pandas"
      ]
    },
    {
      "cell_type": "code",
      "execution_count": 1,
      "id": "d71b92c9",
      "metadata": {
        "colab": {
          "base_uri": "https://localhost:8080/"
        },
        "id": "d71b92c9",
        "outputId": "feb14654-8f4e-49b5-bdc0-56cc5a05554b"
      },
      "outputs": [
        {
          "output_type": "stream",
          "name": "stdout",
          "text": [
            "a    3.0\n",
            "b    4.0\n",
            "c    5.0\n",
            "d    6.0\n",
            "e    7.0\n",
            "Name: data1, dtype: float64\n",
            "\n",
            "<class 'pandas.core.series.Series'>\n",
            "5.0\n",
            "\n",
            "5.0\n"
          ]
        }
      ],
      "source": [
        "import pandas as pd\n",
        "x=[3,4,5,6,7]\n",
        "\n",
        "var=pd.Series(x,index=['a','b','c','d','e'],dtype=\"float64\",name=\"data1\")\n",
        "print(var)\n",
        "print()\n",
        "print(type(var),end=\"\\n\")\n",
        "print(var['c'])\n",
        "print()\n",
        "print(var[2])\n"
      ]
    },
    {
      "cell_type": "code",
      "execution_count": null,
      "id": "129f1eac",
      "metadata": {
        "id": "129f1eac"
      },
      "outputs": [],
      "source": [
        "dic = {\"name\":['python','java','c++','ruby'],\"popularity\":[12,20,31,84],\"rank\":[5,2,3,4]}\n",
        "var1 = pd.Series(dic,name=\"data2\")\n",
        "print(var1)   #working with dictonary\n",
        "print(type(var1))"
      ]
    },
    {
      "cell_type": "code",
      "execution_count": null,
      "id": "04abd801",
      "metadata": {
        "id": "04abd801"
      },
      "outputs": [],
      "source": [
        "s = pd.Series(10,name=\"data3\")\n",
        "print(s)\n",
        "print()\n",
        "z= pd.Series(10,name=\"data4\",index=[1,2,3,4,5])\n",
        "print(z)\n",
        "print()\n",
        "v=pd.Series(range(5),name=\"data5\",dtype=\"float\")\n",
        "print(v)\n"
      ]
    },
    {
      "cell_type": "code",
      "execution_count": null,
      "id": "4915fc59",
      "metadata": {
        "id": "4915fc59"
      },
      "outputs": [],
      "source": [
        "z= pd.Series(10,name=\"data6\",index=[1,2,3,4,5,6,7])\n",
        "s = pd.Series(10,name=\"data7\",index=[1,2,3,4])\n",
        "print(z+s)  #working with missing data(s no. of data != no. of data in z)"
      ]
    },
    {
      "cell_type": "code",
      "execution_count": null,
      "id": "203a6c0a",
      "metadata": {
        "id": "203a6c0a"
      },
      "outputs": [],
      "source": []
    }
  ],
  "metadata": {
    "kernelspec": {
      "display_name": "Python 3 (ipykernel)",
      "language": "python",
      "name": "python3"
    },
    "language_info": {
      "codemirror_mode": {
        "name": "ipython",
        "version": 3
      },
      "file_extension": ".py",
      "mimetype": "text/x-python",
      "name": "python",
      "nbconvert_exporter": "python",
      "pygments_lexer": "ipython3",
      "version": "3.10.9"
    },
    "colab": {
      "provenance": [],
      "include_colab_link": true
    }
  },
  "nbformat": 4,
  "nbformat_minor": 5
}