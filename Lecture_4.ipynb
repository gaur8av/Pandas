{
  "nbformat": 4,
  "nbformat_minor": 0,
  "metadata": {
    "colab": {
      "provenance": [],
      "authorship_tag": "ABX9TyNDAmJULDBhh+UkYwoIhJuA",
      "include_colab_link": true
    },
    "kernelspec": {
      "name": "python3",
      "display_name": "Python 3"
    },
    "language_info": {
      "name": "python"
    }
  },
  "cells": [
    {
      "cell_type": "markdown",
      "metadata": {
        "id": "view-in-github",
        "colab_type": "text"
      },
      "source": [
        "<a href=\"https://colab.research.google.com/github/gaur8av/Pandas/blob/main/Lecture_4.ipynb\" target=\"_parent\"><img src=\"https://colab.research.google.com/assets/colab-badge.svg\" alt=\"Open In Colab\"/></a>"
      ]
    },
    {
      "cell_type": "markdown",
      "source": [
        "Delete and insert data"
      ],
      "metadata": {
        "id": "5ONLoNz5gNO_"
      }
    },
    {
      "cell_type": "code",
      "source": [
        "import pandas as pd\n",
        "import numpy as np\n",
        "var = pd.DataFrame({\"a\":[1,2,3,4,5],\"b\":[0,9,8,7,6]})\n",
        "print(var)\n",
        "print()\n",
        "var.insert(2,\"c\",{1:[1,3,5,7,9]})\n",
        "print(var)\n",
        "print()\n",
        "var.insert(3,\"d\",var[\"a\"])\n",
        "print(var)"
      ],
      "metadata": {
        "colab": {
          "base_uri": "https://localhost:8080/"
        },
        "id": "STQjWKFTgRGf",
        "outputId": "1a3bfe26-6ee3-49ab-9158-8b10c479f338"
      },
      "execution_count": 11,
      "outputs": [
        {
          "output_type": "stream",
          "name": "stdout",
          "text": [
            "   a  b\n",
            "0  1  0\n",
            "1  2  9\n",
            "2  3  8\n",
            "3  4  7\n",
            "4  5  6\n",
            "\n",
            "   a  b                c\n",
            "0  1  0              NaN\n",
            "1  2  9  [1, 3, 5, 7, 9]\n",
            "2  3  8              NaN\n",
            "3  4  7              NaN\n",
            "4  5  6              NaN\n",
            "\n",
            "   a  b                c  d\n",
            "0  1  0              NaN  1\n",
            "1  2  9  [1, 3, 5, 7, 9]  2\n",
            "2  3  8              NaN  3\n",
            "3  4  7              NaN  4\n",
            "4  5  6              NaN  5\n"
          ]
        }
      ]
    },
    {
      "cell_type": "code",
      "source": [
        "var_1 = pd.DataFrame({\"a\":[1,2,3,4,5],\"b\":[0,9,8,7,6]})\n",
        "print(var_1)\n",
        "print()\n",
        "var_1[\"c\"] = var_1[\"a\"][:3]  #when we want limited amount of data\n",
        "print(var_1)"
      ],
      "metadata": {
        "id": "C0mUUM6i6NDF"
      },
      "execution_count": null,
      "outputs": []
    },
    {
      "cell_type": "markdown",
      "source": [
        "Deleteing data from dataFrame"
      ],
      "metadata": {
        "id": "aKvLwfqK60mO"
      }
    },
    {
      "cell_type": "code",
      "source": [
        "var_1 = pd.DataFrame({\"a\":[1,2,3,4,5],\"b\":[0,9,8,7,6],\"c\":[0,5,8,7,5]})\n",
        "print(var_1)\n",
        "print()\n",
        "l1=list(var_1.pop(\"b\"))  #using pop function\n",
        "print(l1)\n",
        "print()\n",
        "print(var_1)  #after pop\n",
        "print()\n",
        "del var_1[\"a\"]\n",
        "print(var_1)\n",
        "\n"
      ],
      "metadata": {
        "colab": {
          "base_uri": "https://localhost:8080/"
        },
        "id": "UHjT63ot66Ls",
        "outputId": "6e109c08-a370-4f5c-800a-385493a2e7d7"
      },
      "execution_count": 27,
      "outputs": [
        {
          "output_type": "stream",
          "name": "stdout",
          "text": [
            "   a  b  c\n",
            "0  1  0  0\n",
            "1  2  9  5\n",
            "2  3  8  8\n",
            "3  4  7  7\n",
            "4  5  6  5\n",
            "\n",
            "[0, 9, 8, 7, 6]\n",
            "\n",
            "   a  c\n",
            "0  1  0\n",
            "1  2  5\n",
            "2  3  8\n",
            "3  4  7\n",
            "4  5  5\n",
            "\n",
            "   c\n",
            "0  0\n",
            "1  5\n",
            "2  8\n",
            "3  7\n",
            "4  5\n"
          ]
        }
      ]
    }
  ]
}