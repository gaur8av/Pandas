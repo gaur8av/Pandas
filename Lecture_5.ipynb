{
  "nbformat": 4,
  "nbformat_minor": 0,
  "metadata": {
    "colab": {
      "provenance": [],
      "authorship_tag": "ABX9TyNjLbF8aaA7Tlk0K0u61bD1",
      "include_colab_link": true
    },
    "kernelspec": {
      "name": "python3",
      "display_name": "Python 3"
    },
    "language_info": {
      "name": "python"
    }
  },
  "cells": [
    {
      "cell_type": "markdown",
      "metadata": {
        "id": "view-in-github",
        "colab_type": "text"
      },
      "source": [
        "<a href=\"https://colab.research.google.com/github/gaur8av/Pandas/blob/main/Lecture_5.ipynb\" target=\"_parent\"><img src=\"https://colab.research.google.com/assets/colab-badge.svg\" alt=\"Open In Colab\"/></a>"
      ]
    },
    {
      "cell_type": "markdown",
      "source": [
        "working on CSV file using pandas"
      ],
      "metadata": {
        "id": "8y1INBi79ROT"
      }
    },
    {
      "cell_type": "code",
      "source": [
        "import pandas as pd\n",
        "dis = {\"A\":[1,2,3,4,5],\"B\":[0,3,8,9,6],\"C\":[5,6,24,5,1]}\n",
        "var = pd.DataFrame(dis)\n",
        "print(var)\n",
        "print()\n",
        "var.to_csv(\"test_1.csv\")\n",
        "print()\n",
        "var.to_csv(\"test_2.csv\",index=False)\n",
        "print()\n",
        "var.to_csv(\"test_2.csv\",header=[1,2,3])"
      ],
      "metadata": {
        "colab": {
          "base_uri": "https://localhost:8080/"
        },
        "id": "o80dwL799UWr",
        "outputId": "12052173-43db-42eb-fa9b-78ed054469f9"
      },
      "execution_count": 6,
      "outputs": [
        {
          "output_type": "stream",
          "name": "stdout",
          "text": [
            "   A  B   C\n",
            "0  1  0   5\n",
            "1  2  3   6\n",
            "2  3  8  24\n",
            "3  4  9   5\n",
            "4  5  6   1\n",
            "\n",
            "\n",
            "\n"
          ]
        }
      ]
    }
  ]
}