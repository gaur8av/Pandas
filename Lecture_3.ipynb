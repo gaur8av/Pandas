{
  "nbformat": 4,
  "nbformat_minor": 0,
  "metadata": {
    "colab": {
      "provenance": [],
      "authorship_tag": "ABX9TyP7AQXXkMBMBDjfQ+SwnHiO",
      "include_colab_link": true
    },
    "kernelspec": {
      "name": "python3",
      "display_name": "Python 3"
    },
    "language_info": {
      "name": "python"
    }
  },
  "cells": [
    {
      "cell_type": "markdown",
      "metadata": {
        "id": "view-in-github",
        "colab_type": "text"
      },
      "source": [
        "<a href=\"https://colab.research.google.com/github/gaur8av/Pandas/blob/main/Lecture_3.ipynb\" target=\"_parent\"><img src=\"https://colab.research.google.com/assets/colab-badge.svg\" alt=\"Open In Colab\"/></a>"
      ]
    },
    {
      "cell_type": "markdown",
      "source": [
        "Arithmetic operator in pandas\n"
      ],
      "metadata": {
        "id": "ecz-6d9yckum"
      }
    },
    {
      "cell_type": "code",
      "source": [
        "import pandas as pd\n",
        "var=pd.DataFrame({\"a\":[1,3,5,6,7],\"b\":[6,4,9,0,1]})\n",
        "print(var)\n",
        "print()\n",
        "var[\"c\"]=var[\"a\"] + var[\"b\"]\n",
        "print(var)\n",
        "print()\n",
        "var[\"c\"]=var[\"a\"] - var[\"b\"]\n",
        "print(var)\n",
        "print()\n",
        "var[\"c\"]=var[\"a\"] * var[\"b\"]\n",
        "print(var)\n",
        "print()\n",
        "var[\"c\"]=var[\"a\"] % var[\"b\"]\n",
        "print(var)\n",
        "print()\n",
        "var1[\"c\"] = var1[\"a\"]+3-var1[\"b\"]\n",
        "print(var1)\n"
      ],
      "metadata": {
        "colab": {
          "base_uri": "https://localhost:8080/"
        },
        "id": "ovywL-olcuO1",
        "outputId": "8e765c3c-5a76-4120-bc8d-ae2ad3e7b41c"
      },
      "execution_count": 13,
      "outputs": [
        {
          "output_type": "stream",
          "name": "stdout",
          "text": [
            "   a  b\n",
            "0  1  6\n",
            "1  3  4\n",
            "2  5  9\n",
            "3  6  0\n",
            "4  7  1\n",
            "\n",
            "   a  b   c\n",
            "0  1  6   7\n",
            "1  3  4   7\n",
            "2  5  9  14\n",
            "3  6  0   6\n",
            "4  7  1   8\n",
            "\n",
            "   a  b  c\n",
            "0  1  6 -5\n",
            "1  3  4 -1\n",
            "2  5  9 -4\n",
            "3  6  0  6\n",
            "4  7  1  6\n",
            "\n",
            "   a  b   c\n",
            "0  1  6   6\n",
            "1  3  4  12\n",
            "2  5  9  45\n",
            "3  6  0   0\n",
            "4  7  1   7\n",
            "\n",
            "   a  b    c\n",
            "0  1  6  1.0\n",
            "1  3  4  3.0\n",
            "2  5  9  5.0\n",
            "3  6  0  NaN\n",
            "4  7  1  0.0\n",
            "\n",
            "    a   b   c\n",
            "0  10  15  -2\n",
            "1  20  16   7\n",
            "2  30  17  16\n",
            "3  40  18  25\n"
          ]
        }
      ]
    },
    {
      "cell_type": "code",
      "source": [
        "var1=pd.DataFrame({\"a\":[10,20,30,40],\"b\":[15,16,17,18]})\n",
        "print(var1)\n",
        "print()\n",
        "var1[\"c\"] = var1[\"a\"] <= var1[\"b\"]\n",
        "print(var1)\n",
        "print()\n",
        "var1[\"c\"] = var1[\"a\"] != var1[\"b\"]\n",
        "print(var1)\n",
        "print()\n",
        "var1[\"c\"] = var1[\"a\"] >= var1[\"b\"]\n",
        "print(var1)\n",
        "print()\n",
        "var1[\"c\"] = var1[\"a\"] == var1[\"b\"]\n",
        "print(var1)\n",
        "print()\n",
        "var1[\"c\"] = var1[\"b\"] >= 16\n",
        "print(var1)\n",
        "print()\n",
        "var1[\"c\"] = var1[\"a\"]/10\n",
        "print(var1)\n",
        "print()"
      ],
      "metadata": {
        "colab": {
          "base_uri": "https://localhost:8080/"
        },
        "id": "Lcx_UCrKeLW9",
        "outputId": "29a11b11-e3ab-472e-8790-65a2e2414625"
      },
      "execution_count": 16,
      "outputs": [
        {
          "output_type": "stream",
          "name": "stdout",
          "text": [
            "    a   b\n",
            "0  10  15\n",
            "1  20  16\n",
            "2  30  17\n",
            "3  40  18\n",
            "\n",
            "    a   b      c\n",
            "0  10  15   True\n",
            "1  20  16  False\n",
            "2  30  17  False\n",
            "3  40  18  False\n",
            "\n",
            "    a   b     c\n",
            "0  10  15  True\n",
            "1  20  16  True\n",
            "2  30  17  True\n",
            "3  40  18  True\n",
            "\n",
            "    a   b      c\n",
            "0  10  15  False\n",
            "1  20  16   True\n",
            "2  30  17   True\n",
            "3  40  18   True\n",
            "\n",
            "    a   b      c\n",
            "0  10  15  False\n",
            "1  20  16  False\n",
            "2  30  17  False\n",
            "3  40  18  False\n",
            "\n",
            "    a   b      c\n",
            "0  10  15  False\n",
            "1  20  16   True\n",
            "2  30  17   True\n",
            "3  40  18   True\n",
            "\n",
            "    a   b    c\n",
            "0  10  15  1.0\n",
            "1  20  16  2.0\n",
            "2  30  17  3.0\n",
            "3  40  18  4.0\n",
            "\n"
          ]
        }
      ]
    }
  ]
}